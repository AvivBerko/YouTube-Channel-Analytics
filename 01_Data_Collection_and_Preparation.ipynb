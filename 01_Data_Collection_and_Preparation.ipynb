{
 "cells": [
  {
   "cell_type": "markdown",
   "id": "0b1b777f-68fc-400a-99ee-f21c4c01c92e",
   "metadata": {},
   "source": [
    "# YouTube Channel Analytics Project"
   ]
  },
  {
   "cell_type": "markdown",
   "id": "7c2ba6db-ad29-4cfd-a94b-8594cc40bfc6",
   "metadata": {},
   "source": [
    "## Overview\n",
    "This notebook handles the data collection and preparation for the YouTube Channel Analytics project. We use the YouTube Data API to gather channel statistics and video details from various channels and prepare this data for analysis."
   ]
  },
  {
   "cell_type": "markdown",
   "id": "20bdb9f2-dd80-4d1c-951e-3269d21ed8e1",
   "metadata": {},
   "source": [
    "## Setup\n",
    "First, we import the necessary libraries and set up the YouTube Data API client."
   ]
  },
  {
   "cell_type": "code",
   "execution_count": 1,
   "id": "763e227d-6a0d-487a-a92f-ec762819c76c",
   "metadata": {},
   "outputs": [],
   "source": [
    "from googleapiclient.discovery import build\n",
    "import pandas as pd\n",
    "import seaborn as sns\n",
    "import isodate\n",
    "from isodate import parse_duration\n"
   ]
  },
  {
   "cell_type": "markdown",
   "id": "476ed631-d46c-4126-af26-e8214ff05c97",
   "metadata": {},
   "source": [
    "## Configuration\n",
    "Here, we configure the YouTube API key and specify the channel IDs we are interested in."
   ]
  },
  {
   "cell_type": "code",
   "execution_count": 2,
   "id": "07a8ee50-44a9-4d5b-a2e8-952d47c6120e",
   "metadata": {},
   "outputs": [],
   "source": [
    "api_key = 'Your API Key here'\n",
    "channel_ids = ['UCNyxrRXa3PvyJYuFP51iU-Q', 'UC6uX6GF5q2JxLjMkyivM2Og', 'UC_F4Iy5korq2mEWZDQhG07w', 'UCmzxts0YGES5tN-oJ9abTQg',\n",
    "               'UCo_q6aOlvPH7M-j_XGWVgXg', 'UCeYue9Nbodzg3T1Nt88E3fg', 'UCBAtiokiAR1D320knY_yXyQ', 'UC4qa5EroJxnQM6Sng9WhgsQ' ]\n",
    "youtube = build('youtube', 'v3', developerKey=api_key)\n"
   ]
  },
  {
   "cell_type": "markdown",
   "id": "76c6eb35-ab83-43c6-8ef5-4a922bfd4d8e",
   "metadata": {},
   "source": [
    "## Fetching Channel Statistics\n",
    "We define a function to retrieve statistics for each channel, including the number of subscribers, views, and total videos. The get_channel_stats function queries the API and processes the response."
   ]
  },
  {
   "cell_type": "code",
   "execution_count": 3,
   "id": "278a9947-4a83-490f-84f4-a320846b2dd2",
   "metadata": {},
   "outputs": [],
   "source": [
    "def get_channel_stats(youtube, channel_ids):\n",
    "    all_data = []\n",
    "    request = youtube.channels().list(part=\"snippet,contentDetails,statistics\", id=','.join(channel_ids))\n",
    "    response = request.execute()\n",
    "    for i in range(len(response['items'])):\n",
    "        data = {'channel_name': response['items'][i]['snippet']['title'],\n",
    "                'subscribers': response['items'][i]['statistics']['subscriberCount'],\n",
    "                'views': response['items'][i]['statistics']['viewCount'],\n",
    "                'total_videos': response['items'][i]['statistics']['videoCount'],\n",
    "                'playlist_id': response['items'][i]['contentDetails']['relatedPlaylists']['uploads']}\n",
    "        all_data.append(data)\n",
    "    \n",
    "    return all_data\n"
   ]
  },
  {
   "cell_type": "markdown",
   "id": "cde679c5-0cf6-4c9e-817d-9e1a571bbe5a",
   "metadata": {},
   "source": [
    "We then retrieve the channel statistics and load them into a DataFrame.\n",
    "\n"
   ]
  },
  {
   "cell_type": "code",
   "execution_count": 4,
   "id": "e041ccb4-78e5-43c5-95ea-b0b2c0bf4efc",
   "metadata": {},
   "outputs": [],
   "source": [
    "channel_stats = get_channel_stats(youtube, channel_ids)\n",
    "df = pd.DataFrame(channel_stats)\n"
   ]
  },
  {
   "cell_type": "markdown",
   "id": "48819475-4ad3-4485-b2ab-c77f857ff4c0",
   "metadata": {},
   "source": [
    "## Data Preprocessing\n",
    "We ensure that the columns in the DataFrame are of the correct data types."
   ]
  },
  {
   "cell_type": "code",
   "execution_count": 5,
   "id": "a25c6bea-350a-45e7-9033-15a2500b02c8",
   "metadata": {},
   "outputs": [],
   "source": [
    "df['subscribers'] = pd.to_numeric(df['subscribers'])\n",
    "df['views'] = pd.to_numeric(df['views'])\n",
    "df['total_videos'] = pd.to_numeric(df['total_videos'])\n"
   ]
  },
  {
   "cell_type": "markdown",
   "id": "0d6b0fc5-b89e-46dd-a56c-63ddeaeb3e87",
   "metadata": {},
   "source": [
    "We ensure that the DataFrame is in order before we move on to data visualization."
   ]
  },
  {
   "cell_type": "code",
   "execution_count": 6,
   "id": "0e69566c-5b63-44ce-8924-18c99be463fe",
   "metadata": {},
   "outputs": [
    {
     "data": {
      "text/html": [
       "<div>\n",
       "<style scoped>\n",
       "    .dataframe tbody tr th:only-of-type {\n",
       "        vertical-align: middle;\n",
       "    }\n",
       "\n",
       "    .dataframe tbody tr th {\n",
       "        vertical-align: top;\n",
       "    }\n",
       "\n",
       "    .dataframe thead th {\n",
       "        text-align: right;\n",
       "    }\n",
       "</style>\n",
       "<table border=\"1\" class=\"dataframe\">\n",
       "  <thead>\n",
       "    <tr style=\"text-align: right;\">\n",
       "      <th></th>\n",
       "      <th>channel_name</th>\n",
       "      <th>subscribers</th>\n",
       "      <th>views</th>\n",
       "      <th>total_videos</th>\n",
       "      <th>playlist_id</th>\n",
       "    </tr>\n",
       "  </thead>\n",
       "  <tbody>\n",
       "    <tr>\n",
       "      <th>0</th>\n",
       "      <td>Ho &amp; Pringle Productions</td>\n",
       "      <td>90200</td>\n",
       "      <td>30048393</td>\n",
       "      <td>323</td>\n",
       "      <td>UUeYue9Nbodzg3T1Nt88E3fg</td>\n",
       "    </tr>\n",
       "    <tr>\n",
       "      <th>1</th>\n",
       "      <td>Italo Ferreira</td>\n",
       "      <td>87500</td>\n",
       "      <td>7764420</td>\n",
       "      <td>163</td>\n",
       "      <td>UUBAtiokiAR1D320knY_yXyQ</td>\n",
       "    </tr>\n",
       "    <tr>\n",
       "      <th>2</th>\n",
       "      <td>Nathan Florence</td>\n",
       "      <td>474000</td>\n",
       "      <td>219518331</td>\n",
       "      <td>532</td>\n",
       "      <td>UU6uX6GF5q2JxLjMkyivM2Og</td>\n",
       "    </tr>\n",
       "    <tr>\n",
       "      <th>3</th>\n",
       "      <td>Ben Gravy</td>\n",
       "      <td>201000</td>\n",
       "      <td>72705097</td>\n",
       "      <td>2164</td>\n",
       "      <td>UU4qa5EroJxnQM6Sng9WhgsQ</td>\n",
       "    </tr>\n",
       "    <tr>\n",
       "      <th>4</th>\n",
       "      <td>Koa Rothman</td>\n",
       "      <td>201000</td>\n",
       "      <td>51598520</td>\n",
       "      <td>517</td>\n",
       "      <td>UU_F4Iy5korq2mEWZDQhG07w</td>\n",
       "    </tr>\n",
       "    <tr>\n",
       "      <th>5</th>\n",
       "      <td>Jamie O'Brien</td>\n",
       "      <td>1270000</td>\n",
       "      <td>502351997</td>\n",
       "      <td>956</td>\n",
       "      <td>UUo_q6aOlvPH7M-j_XGWVgXg</td>\n",
       "    </tr>\n",
       "    <tr>\n",
       "      <th>6</th>\n",
       "      <td>John John Florence</td>\n",
       "      <td>197000</td>\n",
       "      <td>32021763</td>\n",
       "      <td>160</td>\n",
       "      <td>UUNyxrRXa3PvyJYuFP51iU-Q</td>\n",
       "    </tr>\n",
       "    <tr>\n",
       "      <th>7</th>\n",
       "      <td>Kai Lenny</td>\n",
       "      <td>145000</td>\n",
       "      <td>41871035</td>\n",
       "      <td>199</td>\n",
       "      <td>UUmzxts0YGES5tN-oJ9abTQg</td>\n",
       "    </tr>\n",
       "  </tbody>\n",
       "</table>\n",
       "</div>"
      ],
      "text/plain": [
       "               channel_name  subscribers      views  total_videos  \\\n",
       "0  Ho & Pringle Productions        90200   30048393           323   \n",
       "1            Italo Ferreira        87500    7764420           163   \n",
       "2           Nathan Florence       474000  219518331           532   \n",
       "3                 Ben Gravy       201000   72705097          2164   \n",
       "4               Koa Rothman       201000   51598520           517   \n",
       "5             Jamie O'Brien      1270000  502351997           956   \n",
       "6        John John Florence       197000   32021763           160   \n",
       "7                 Kai Lenny       145000   41871035           199   \n",
       "\n",
       "                playlist_id  \n",
       "0  UUeYue9Nbodzg3T1Nt88E3fg  \n",
       "1  UUBAtiokiAR1D320knY_yXyQ  \n",
       "2  UU6uX6GF5q2JxLjMkyivM2Og  \n",
       "3  UU4qa5EroJxnQM6Sng9WhgsQ  \n",
       "4  UU_F4Iy5korq2mEWZDQhG07w  \n",
       "5  UUo_q6aOlvPH7M-j_XGWVgXg  \n",
       "6  UUNyxrRXa3PvyJYuFP51iU-Q  \n",
       "7  UUmzxts0YGES5tN-oJ9abTQg  "
      ]
     },
     "execution_count": 6,
     "metadata": {},
     "output_type": "execute_result"
    }
   ],
   "source": [
    "df"
   ]
  },
  {
   "cell_type": "markdown",
   "id": "218299ed-3183-458b-b6c7-0008b0cf44d2",
   "metadata": {},
   "source": [
    "## Data Visualization\n",
    "We use Seaborn to visualize the statistics for each channel."
   ]
  },
  {
   "cell_type": "markdown",
   "id": "df47a99f-3812-4fcb-a8fa-b35ab57fd400",
   "metadata": {},
   "source": [
    "We can see that the distinct channels have a broad range of subscribers "
   ]
  },
  {
   "cell_type": "code",
   "execution_count": 7,
   "id": "c2a48661-69dd-4433-b814-66e3aa9eba9b",
   "metadata": {},
   "outputs": [
    {
     "data": {
      "text/plain": [
       "Text(0.5, 1.0, 'Channels Subscribers Count')"
      ]
     },
     "execution_count": 7,
     "metadata": {},
     "output_type": "execute_result"
    },
    {
     "data": {
      "image/png": "[encoded data removed]",
      "text/plain": [
       "<Figure size 1000x600 with 1 Axes>"
      ]
     },
     "metadata": {},
     "output_type": "display_data"
    }
   ],
   "source": [
    "sns.set(rc={'figure.figsize':(10,6)})\n",
    "ax = sns.barplot(x='channel_name', y='subscribers', data=df, hue=\"subscribers\")\n",
    "ax.tick_params(axis='x', rotation=45)\n",
    "ax.set_title('Channels Subscribers Count')"
   ]
  },
  {
   "cell_type": "code",
   "execution_count": 8,
   "id": "2e742b61-2dae-4f15-83f7-4356fdd0254e",
   "metadata": {},
   "outputs": [
    {
     "data": {
      "text/plain": [
       "Text(0.5, 1.0, 'Channels Total View Count')"
      ]
     },
     "execution_count": 8,
     "metadata": {},
     "output_type": "execute_result"
    },
    {
     "data": {
      "image/png": "[encoded data removed]",
      "text/plain": [
       "<Figure size 1000x600 with 1 Axes>"
      ]
     },
     "metadata": {},
     "output_type": "display_data"
    }
   ],
   "source": [
    "ax = sns.barplot(x='channel_name', y='views', data=df, hue=\"views\")\n",
    "ax.tick_params(axis='x', rotation=45)\n",
    "ax.set_title('Channels Total View Count')"
   ]
  },
  {
   "cell_type": "code",
   "execution_count": 9,
   "id": "f9658e00-14e0-42ef-af5f-cee6bf4d633d",
   "metadata": {
    "scrolled": true
   },
   "outputs": [
    {
     "data": {
      "text/plain": [
       "Text(0.5, 1.0, 'Channels Total Videos Count')"
      ]
     },
     "execution_count": 9,
     "metadata": {},
     "output_type": "execute_result"
    },
    {
     "data": {
      "image/png": "[encoded data removed]",
      "text/plain": [
       "<Figure size 1000x600 with 1 Axes>"
      ]
     },
     "metadata": {},
     "output_type": "display_data"
    }
   ],
   "source": [
    "ax = sns.barplot(x='channel_name', y='total_videos', data=df, hue=\"total_videos\")\n",
    "ax.tick_params(axis='x', rotation=45)\n",
    "ax.set_title('Channels Total Videos Count')"
   ]
  },
  {
   "cell_type": "markdown",
   "id": "59b628d8-50f4-4307-bf2c-41c0ed94a4a3",
   "metadata": {},
   "source": [
    "## Fetching Video Data\n",
    "We define functions to retrieve video IDs and video details from each channel's playlist."
   ]
  },
  {
   "cell_type": "code",
   "execution_count": 10,
   "id": "78270e7c-2345-40f3-9da8-141d2f1788f3",
   "metadata": {},
   "outputs": [],
   "source": [
    "def get_video_ids(youtube, playlist_id):\n",
    "    video_ids = []\n",
    "    next_page_token = None\n",
    "    more_pages = True\n",
    "    while more_pages:\n",
    "        request = youtube.playlistItems().list(part=\"contentDetails\", maxResults=50, playlistId=playlist_id, pageToken=next_page_token)\n",
    "        response = request.execute()\n",
    "        for item in response['items']:\n",
    "            video_ids.append(item['contentDetails']['videoId'])\n",
    "        next_page_token = response.get('nextPageToken')\n",
    "        if next_page_token is None:\n",
    "            more_pages = False\n",
    "    return video_ids\n",
    "\n",
    "def get_video_details(youtube, videos):\n",
    "    video_details = []\n",
    "    for i in range(0, len(videos), 50):\n",
    "        request = youtube.videos().list(part=\"snippet,contentDetails,statistics\", id=','.join(videos[i:i+50]))\n",
    "        response = request.execute()\n",
    "        for video in response['items']:\n",
    "            video_dict = {\n",
    "                'Video_id': video['id'],\n",
    "                'Title': video['snippet'].get('title', 'Unknown Title'),\n",
    "                'Published_date': video['snippet'].get('publishedAt', 'Unknown Date'),\n",
    "                'Views': video['statistics'].get('viewCount', '0'),\n",
    "                'Likes': video['statistics'].get('likeCount', '0'),\n",
    "                'Comments': video['statistics'].get('commentCount', '0'),\n",
    "                'Duration': video['contentDetails'].get('duration', 'Unknown Duration')\n",
    "            }\n",
    "            video_details.append(video_dict)\n",
    "    return video_details\n"
   ]
  },
  {
   "cell_type": "markdown",
   "id": "86a40658-a11f-4551-94fe-a9353f49c0f9",
   "metadata": {},
   "source": [
    "We then fetch all video data and process it into a DataFrame.\n",
    "\n"
   ]
  },
  {
   "cell_type": "code",
   "execution_count": 11,
   "id": "ca7a5e85-3c6d-40c2-afd3-d778f8bcdd2a",
   "metadata": {},
   "outputs": [],
   "source": [
    "def fetch_video_data(row):\n",
    "    video_ids = get_video_ids(youtube, row['playlist_id'])\n",
    "    video_details = get_video_details(youtube, video_ids)\n",
    "    video_details_df = pd.DataFrame(video_details)\n",
    "    video_details_df['channel_name'] = row['channel_name']\n",
    "    return video_details_df\n",
    "\n",
    "video_data = df.apply(fetch_video_data, axis=1)\n",
    "all_channels_video_data = pd.concat(video_data.values, ignore_index=True)\n"
   ]
  },
  {
   "cell_type": "markdown",
   "id": "6e2f17c6-0e0a-4a5f-9218-363e1d53bf08",
   "metadata": {},
   "source": [
    "## Data Preprocessing and Integrity Check\n",
    "We process the video data, ensuring the correct data types and checking for any issues such as missing values or negative numbers."
   ]
  },
  {
   "cell_type": "code",
   "execution_count": 12,
   "id": "5417b0e3-c4a8-4327-b527-e54cf4abbd46",
   "metadata": {},
   "outputs": [],
   "source": [
    "all_channels_video_data['Published_date'] = pd.to_datetime(all_channels_video_data['Published_date'])\n",
    "all_channels_video_data['Views'] = pd.to_numeric(all_channels_video_data['Views'])\n",
    "all_channels_video_data['Likes'] = pd.to_numeric(all_channels_video_data['Likes'])\n",
    "all_channels_video_data['Comments'] = pd.to_numeric(all_channels_video_data['Comments'])\n",
    "all_channels_video_data['Duration'] = all_channels_video_data['Duration'].apply(parse_duration)\n",
    "all_channels_video_data['Month'] = all_channels_video_data['Published_date'].dt.strftime('%b')"
   ]
  },
  {
   "cell_type": "code",
   "execution_count": 13,
   "id": "207b1bb2-120c-4f33-a695-2991fc56bb8c",
   "metadata": {},
   "outputs": [
    {
     "data": {
      "text/plain": [
       "Video_id          0\n",
       "Title             0\n",
       "Published_date    0\n",
       "Views             0\n",
       "Likes             0\n",
       "Comments          0\n",
       "Duration          0\n",
       "channel_name      0\n",
       "Month             0\n",
       "dtype: int64"
      ]
     },
     "execution_count": 13,
     "metadata": {},
     "output_type": "execute_result"
    }
   ],
   "source": [
    "# We ensure there are no missing values\n",
    "all_channels_video_data.isnull().sum()"
   ]
  },
  {
   "cell_type": "code",
   "execution_count": 14,
   "id": "08e84210-3828-4c06-a64d-66fedcf2e126",
   "metadata": {},
   "outputs": [
    {
     "data": {
      "text/plain": [
       "Video_id                       object\n",
       "Title                          object\n",
       "Published_date    datetime64[ns, UTC]\n",
       "Views                           int64\n",
       "Likes                           int64\n",
       "Comments                        int64\n",
       "Duration              timedelta64[ns]\n",
       "channel_name                   object\n",
       "Month                          object\n",
       "dtype: object"
      ]
     },
     "execution_count": 14,
     "metadata": {},
     "output_type": "execute_result"
    }
   ],
   "source": [
    "# We ensure that all columns are in the correct format\n",
    "all_channels_video_data.dtypes"
   ]
  },
  {
   "cell_type": "code",
   "execution_count": 15,
   "id": "b663e298-2799-446a-a636-eedd0bf1bd1d",
   "metadata": {},
   "outputs": [],
   "source": [
    "## We define the order of months\n",
    "month_order = ['Jan', 'Feb', 'Mar', 'Apr', 'May', 'Jun', 'Jul', 'Aug', 'Sep', 'Oct', 'Nov', 'Dec']\n",
    "\n",
    "# We convert 'month' to a categorical type with the defined order\n",
    "all_channels_video_data['Month'] = pd.Categorical(all_channels_video_data['Month'], categories=month_order, ordered=True)"
   ]
  },
  {
   "cell_type": "code",
   "execution_count": 16,
   "id": "1771bdb1-2458-4740-9cf2-8c4e21d8e87a",
   "metadata": {},
   "outputs": [
    {
     "data": {
      "text/plain": [
       "CategoricalDtype(categories=['Jan', 'Feb', 'Mar', 'Apr', 'May', 'Jun', 'Jul', 'Aug',\n",
       "                  'Sep', 'Oct', 'Nov', 'Dec'],\n",
       ", ordered=True, categories_dtype=object)"
      ]
     },
     "execution_count": 16,
     "metadata": {},
     "output_type": "execute_result"
    }
   ],
   "source": [
    "# We check 'month' type again after Converting 'month' to a categorical type with the defined order\n",
    "all_channels_video_data['Month'].dtypes"
   ]
  },
  {
   "cell_type": "code",
   "execution_count": 17,
   "id": "c401a8f8-7e93-4488-acab-bb04f7267d97",
   "metadata": {},
   "outputs": [
    {
     "data": {
      "text/plain": [
       "channel_name\n",
       "Ben Gravy                   2165\n",
       "Jamie O'Brien                956\n",
       "Nathan Florence              533\n",
       "Koa Rothman                  517\n",
       "Ho & Pringle Productions     323\n",
       "Kai Lenny                    199\n",
       "Italo Ferreira               164\n",
       "John John Florence           160\n",
       "Name: count, dtype: int64"
      ]
     },
     "execution_count": 17,
     "metadata": {},
     "output_type": "execute_result"
    }
   ],
   "source": [
    "# We check if the number of videos per channel correlates to the original DataFrame prior to the Concatenation\n",
    "all_channels_video_data['channel_name'].value_counts()"
   ]
  },
  {
   "cell_type": "code",
   "execution_count": 18,
   "id": "6754297e-56f7-4b52-a703-aad79368faf2",
   "metadata": {},
   "outputs": [
    {
     "data": {
      "text/plain": [
       "0"
      ]
     },
     "execution_count": 18,
     "metadata": {},
     "output_type": "execute_result"
    }
   ],
   "source": [
    "# We check for duplicate rows\n",
    "all_channels_video_data.duplicated().sum()"
   ]
  },
  {
   "cell_type": "code",
   "execution_count": 19,
   "id": "d31d303a-f4f7-4f6d-a7f8-03d2916a53e8",
   "metadata": {},
   "outputs": [
    {
     "data": {
      "text/plain": [
       "(Timestamp('2007-11-12 13:23:36+0000', tz='UTC'),\n",
       " Timestamp('2024-08-29 14:00:06+0000', tz='UTC'))"
      ]
     },
     "execution_count": 19,
     "metadata": {},
     "output_type": "execute_result"
    }
   ],
   "source": [
    "# We ensure that the dates in 'Published_date' column are within a reasonable range:\n",
    "min_date = all_channels_video_data['Published_date'].min()\n",
    "max_date  = all_channels_video_data['Published_date'].max()\n",
    "min_date, max_date "
   ]
  },
  {
   "cell_type": "code",
   "execution_count": 20,
   "id": "1f23d223-c5ce-4bd4-af24-fc56c4a98124",
   "metadata": {},
   "outputs": [
    {
     "data": {
      "text/plain": [
       "0"
      ]
     },
     "execution_count": 20,
     "metadata": {},
     "output_type": "execute_result"
    }
   ],
   "source": [
    "# We check for negative values\n",
    "filtered_df = all_channels_video_data[['Views', 'Likes', 'Comments']]\n",
    "negative_mask = (filtered_df<0).any(axis=1)\n",
    "rows_with_negative_vals = filtered_df[negative_mask]\n",
    "len(rows_with_negative_vals)"
   ]
  },
  {
   "cell_type": "code",
   "execution_count": 21,
   "id": "1750a4e4-0621-4895-b102-9c4559404d51",
   "metadata": {},
   "outputs": [
    {
     "data": {
      "text/plain": [
       "['Aug', 'Jul', 'Jun', 'May', 'Apr', ..., 'Jan', 'Dec', 'Nov', 'Oct', 'Sep']\n",
       "Length: 12\n",
       "Categories (12, object): ['Jan' < 'Feb' < 'Mar' < 'Apr' ... 'Sep' < 'Oct' < 'Nov' < 'Dec']"
      ]
     },
     "execution_count": 21,
     "metadata": {},
     "output_type": "execute_result"
    }
   ],
   "source": [
    "# We check unique values in 'month' column\n",
    "all_channels_video_data['Month'].unique()"
   ]
  },
  {
   "cell_type": "code",
   "execution_count": 22,
   "id": "edfe7499-07b1-4ff4-95a3-39ac82349eb4",
   "metadata": {},
   "outputs": [
    {
     "data": {
      "text/html": [
       "<div>\n",
       "<style scoped>\n",
       "    .dataframe tbody tr th:only-of-type {\n",
       "        vertical-align: middle;\n",
       "    }\n",
       "\n",
       "    .dataframe tbody tr th {\n",
       "        vertical-align: top;\n",
       "    }\n",
       "\n",
       "    .dataframe thead th {\n",
       "        text-align: right;\n",
       "    }\n",
       "</style>\n",
       "<table border=\"1\" class=\"dataframe\">\n",
       "  <thead>\n",
       "    <tr style=\"text-align: right;\">\n",
       "      <th></th>\n",
       "      <th>Video_id</th>\n",
       "      <th>Title</th>\n",
       "      <th>Published_date</th>\n",
       "      <th>Views</th>\n",
       "      <th>Likes</th>\n",
       "      <th>Comments</th>\n",
       "      <th>Duration</th>\n",
       "      <th>channel_name</th>\n",
       "      <th>Month</th>\n",
       "    </tr>\n",
       "  </thead>\n",
       "  <tbody>\n",
       "    <tr>\n",
       "      <th>0</th>\n",
       "      <td>7_2cuckjs1M</td>\n",
       "      <td>High Noon | A SURF RANCH Snapt Takeover Starri...</td>\n",
       "      <td>2024-08-23 14:15:09+00:00</td>\n",
       "      <td>55812</td>\n",
       "      <td>728</td>\n",
       "      <td>91</td>\n",
       "      <td>0 days 00:22:01</td>\n",
       "      <td>Ho &amp; Pringle Productions</td>\n",
       "      <td>Aug</td>\n",
       "    </tr>\n",
       "    <tr>\n",
       "      <th>1</th>\n",
       "      <td>2CLmMDXpMUw</td>\n",
       "      <td>Mason Ho POV Desert Point Special Guest Sledge...</td>\n",
       "      <td>2024-08-16 19:00:36+00:00</td>\n",
       "      <td>27671</td>\n",
       "      <td>658</td>\n",
       "      <td>53</td>\n",
       "      <td>0 days 00:08:03</td>\n",
       "      <td>Ho &amp; Pringle Productions</td>\n",
       "      <td>Aug</td>\n",
       "    </tr>\n",
       "    <tr>\n",
       "      <th>2</th>\n",
       "      <td>9UPDrEsULKQ</td>\n",
       "      <td>Rocky Point Surf With Special Guest Sledge Ham...</td>\n",
       "      <td>2024-08-11 01:50:17+00:00</td>\n",
       "      <td>78910</td>\n",
       "      <td>1075</td>\n",
       "      <td>72</td>\n",
       "      <td>0 days 00:08:02</td>\n",
       "      <td>Ho &amp; Pringle Productions</td>\n",
       "      <td>Aug</td>\n",
       "    </tr>\n",
       "    <tr>\n",
       "      <th>3</th>\n",
       "      <td>_B1ZBI0mVgU</td>\n",
       "      <td>Summertime Rides With The kids</td>\n",
       "      <td>2024-08-02 20:43:36+00:00</td>\n",
       "      <td>5947</td>\n",
       "      <td>223</td>\n",
       "      <td>0</td>\n",
       "      <td>0 days 00:04:12</td>\n",
       "      <td>Ho &amp; Pringle Productions</td>\n",
       "      <td>Aug</td>\n",
       "    </tr>\n",
       "    <tr>\n",
       "      <th>4</th>\n",
       "      <td>XItO4texa8k</td>\n",
       "      <td>Ho Family &amp; Friends Surf SOLID Ala Moana Bowl</td>\n",
       "      <td>2024-07-26 16:14:54+00:00</td>\n",
       "      <td>42377</td>\n",
       "      <td>755</td>\n",
       "      <td>81</td>\n",
       "      <td>0 days 00:17:14</td>\n",
       "      <td>Ho &amp; Pringle Productions</td>\n",
       "      <td>Jul</td>\n",
       "    </tr>\n",
       "    <tr>\n",
       "      <th>...</th>\n",
       "      <td>...</td>\n",
       "      <td>...</td>\n",
       "      <td>...</td>\n",
       "      <td>...</td>\n",
       "      <td>...</td>\n",
       "      <td>...</td>\n",
       "      <td>...</td>\n",
       "      <td>...</td>\n",
       "      <td>...</td>\n",
       "    </tr>\n",
       "    <tr>\n",
       "      <th>5012</th>\n",
       "      <td>YlVs_cD7bzI</td>\n",
       "      <td>Kai Hydrofoil Surfing the North Shore</td>\n",
       "      <td>2016-12-18 23:02:18+00:00</td>\n",
       "      <td>72633</td>\n",
       "      <td>378</td>\n",
       "      <td>20</td>\n",
       "      <td>0 days 00:02:20</td>\n",
       "      <td>Kai Lenny</td>\n",
       "      <td>Dec</td>\n",
       "    </tr>\n",
       "    <tr>\n",
       "      <th>5013</th>\n",
       "      <td>SvISdYzhZCI</td>\n",
       "      <td>Kai Lenny Tow-Surfing after the Peahi Challenge</td>\n",
       "      <td>2016-11-12 23:49:31+00:00</td>\n",
       "      <td>168490</td>\n",
       "      <td>1225</td>\n",
       "      <td>83</td>\n",
       "      <td>0 days 00:01:57</td>\n",
       "      <td>Kai Lenny</td>\n",
       "      <td>Nov</td>\n",
       "    </tr>\n",
       "    <tr>\n",
       "      <th>5014</th>\n",
       "      <td>h7XupqFOFSg</td>\n",
       "      <td>Worlds Longest Waves: Open Ocean Foil Surfing</td>\n",
       "      <td>2016-09-14 19:18:50+00:00</td>\n",
       "      <td>214825</td>\n",
       "      <td>887</td>\n",
       "      <td>51</td>\n",
       "      <td>0 days 00:02:01</td>\n",
       "      <td>Kai Lenny</td>\n",
       "      <td>Sep</td>\n",
       "    </tr>\n",
       "    <tr>\n",
       "      <th>5015</th>\n",
       "      <td>px88XsARHwc</td>\n",
       "      <td>Kai Lenny Hydrofoil Surfing</td>\n",
       "      <td>2016-07-05 17:33:54+00:00</td>\n",
       "      <td>1262797</td>\n",
       "      <td>3859</td>\n",
       "      <td>156</td>\n",
       "      <td>0 days 00:03:00</td>\n",
       "      <td>Kai Lenny</td>\n",
       "      <td>Jul</td>\n",
       "    </tr>\n",
       "    <tr>\n",
       "      <th>5016</th>\n",
       "      <td>9QfFRvd7H6I</td>\n",
       "      <td>Kai Lenny and the First Foil Downwinder</td>\n",
       "      <td>2016-04-30 20:09:03+00:00</td>\n",
       "      <td>429346</td>\n",
       "      <td>1185</td>\n",
       "      <td>80</td>\n",
       "      <td>0 days 00:01:29</td>\n",
       "      <td>Kai Lenny</td>\n",
       "      <td>Apr</td>\n",
       "    </tr>\n",
       "  </tbody>\n",
       "</table>\n",
       "<p>5017 rows × 9 columns</p>\n",
       "</div>"
      ],
      "text/plain": [
       "         Video_id                                              Title  \\\n",
       "0     7_2cuckjs1M  High Noon | A SURF RANCH Snapt Takeover Starri...   \n",
       "1     2CLmMDXpMUw  Mason Ho POV Desert Point Special Guest Sledge...   \n",
       "2     9UPDrEsULKQ  Rocky Point Surf With Special Guest Sledge Ham...   \n",
       "3     _B1ZBI0mVgU                     Summertime Rides With The kids   \n",
       "4     XItO4texa8k      Ho Family & Friends Surf SOLID Ala Moana Bowl   \n",
       "...           ...                                                ...   \n",
       "5012  YlVs_cD7bzI              Kai Hydrofoil Surfing the North Shore   \n",
       "5013  SvISdYzhZCI    Kai Lenny Tow-Surfing after the Peahi Challenge   \n",
       "5014  h7XupqFOFSg      Worlds Longest Waves: Open Ocean Foil Surfing   \n",
       "5015  px88XsARHwc                        Kai Lenny Hydrofoil Surfing   \n",
       "5016  9QfFRvd7H6I            Kai Lenny and the First Foil Downwinder   \n",
       "\n",
       "                Published_date    Views  Likes  Comments        Duration  \\\n",
       "0    2024-08-23 14:15:09+00:00    55812    728        91 0 days 00:22:01   \n",
       "1    2024-08-16 19:00:36+00:00    27671    658        53 0 days 00:08:03   \n",
       "2    2024-08-11 01:50:17+00:00    78910   1075        72 0 days 00:08:02   \n",
       "3    2024-08-02 20:43:36+00:00     5947    223         0 0 days 00:04:12   \n",
       "4    2024-07-26 16:14:54+00:00    42377    755        81 0 days 00:17:14   \n",
       "...                        ...      ...    ...       ...             ...   \n",
       "5012 2016-12-18 23:02:18+00:00    72633    378        20 0 days 00:02:20   \n",
       "5013 2016-11-12 23:49:31+00:00   168490   1225        83 0 days 00:01:57   \n",
       "5014 2016-09-14 19:18:50+00:00   214825    887        51 0 days 00:02:01   \n",
       "5015 2016-07-05 17:33:54+00:00  1262797   3859       156 0 days 00:03:00   \n",
       "5016 2016-04-30 20:09:03+00:00   429346   1185        80 0 days 00:01:29   \n",
       "\n",
       "                  channel_name Month  \n",
       "0     Ho & Pringle Productions   Aug  \n",
       "1     Ho & Pringle Productions   Aug  \n",
       "2     Ho & Pringle Productions   Aug  \n",
       "3     Ho & Pringle Productions   Aug  \n",
       "4     Ho & Pringle Productions   Jul  \n",
       "...                        ...   ...  \n",
       "5012                 Kai Lenny   Dec  \n",
       "5013                 Kai Lenny   Nov  \n",
       "5014                 Kai Lenny   Sep  \n",
       "5015                 Kai Lenny   Jul  \n",
       "5016                 Kai Lenny   Apr  \n",
       "\n",
       "[5017 rows x 9 columns]"
      ]
     },
     "execution_count": 22,
     "metadata": {},
     "output_type": "execute_result"
    }
   ],
   "source": [
    "# We review a sample of the data to ensure that it looks as expected:\n",
    "all_channels_video_data"
   ]
  },
  {
   "cell_type": "code",
   "execution_count": 23,
   "id": "1ceed8db-bd87-464b-9d3f-578cb2b0e26e",
   "metadata": {},
   "outputs": [],
   "source": [
    "# We reorder the Columns as we wish\n",
    "# We define the desired column order\n",
    "columns_order = ['channel_name', 'Title', 'Video_id', 'Published_date', 'Month', 'Views', 'Likes', 'Comments', 'Duration']\n",
    "\n",
    "# We reorder the columns of the DataFrame according to the specified order\n",
    "all_channels_video_data = all_channels_video_data[columns_order]"
   ]
  },
  {
   "cell_type": "code",
   "execution_count": 24,
   "id": "826b6b44-4ecd-4171-aeae-8328a32dc2cc",
   "metadata": {},
   "outputs": [
    {
     "data": {
      "text/plain": [
       "channel_name                   object\n",
       "Title                          object\n",
       "Video_id                       object\n",
       "Published_date    datetime64[ns, UTC]\n",
       "Month                        category\n",
       "Views                           int64\n",
       "Likes                           int64\n",
       "Comments                        int64\n",
       "Duration              timedelta64[ns]\n",
       "dtype: object"
      ]
     },
     "execution_count": 24,
     "metadata": {},
     "output_type": "execute_result"
    }
   ],
   "source": [
    "# We check that all columns are in the desired dtypes\n",
    "all_channels_video_data.dtypes"
   ]
  },
  {
   "cell_type": "code",
   "execution_count": 25,
   "id": "2783fc61-9a7d-4eb9-9ca4-e7dd4a289034",
   "metadata": {},
   "outputs": [
    {
     "data": {
      "text/html": [
       "<div>\n",
       "<style scoped>\n",
       "    .dataframe tbody tr th:only-of-type {\n",
       "        vertical-align: middle;\n",
       "    }\n",
       "\n",
       "    .dataframe tbody tr th {\n",
       "        vertical-align: top;\n",
       "    }\n",
       "\n",
       "    .dataframe thead th {\n",
       "        text-align: right;\n",
       "    }\n",
       "</style>\n",
       "<table border=\"1\" class=\"dataframe\">\n",
       "  <thead>\n",
       "    <tr style=\"text-align: right;\">\n",
       "      <th></th>\n",
       "      <th>channel_name</th>\n",
       "      <th>Title</th>\n",
       "      <th>Video_id</th>\n",
       "      <th>Published_date</th>\n",
       "      <th>Month</th>\n",
       "      <th>Views</th>\n",
       "      <th>Likes</th>\n",
       "      <th>Comments</th>\n",
       "      <th>Duration</th>\n",
       "    </tr>\n",
       "  </thead>\n",
       "  <tbody>\n",
       "    <tr>\n",
       "      <th>0</th>\n",
       "      <td>Ho &amp; Pringle Productions</td>\n",
       "      <td>High Noon | A SURF RANCH Snapt Takeover Starri...</td>\n",
       "      <td>7_2cuckjs1M</td>\n",
       "      <td>2024-08-23 14:15:09+00:00</td>\n",
       "      <td>Aug</td>\n",
       "      <td>55812</td>\n",
       "      <td>728</td>\n",
       "      <td>91</td>\n",
       "      <td>0 days 00:22:01</td>\n",
       "    </tr>\n",
       "    <tr>\n",
       "      <th>1</th>\n",
       "      <td>Ho &amp; Pringle Productions</td>\n",
       "      <td>Mason Ho POV Desert Point Special Guest Sledge...</td>\n",
       "      <td>2CLmMDXpMUw</td>\n",
       "      <td>2024-08-16 19:00:36+00:00</td>\n",
       "      <td>Aug</td>\n",
       "      <td>27671</td>\n",
       "      <td>658</td>\n",
       "      <td>53</td>\n",
       "      <td>0 days 00:08:03</td>\n",
       "    </tr>\n",
       "    <tr>\n",
       "      <th>2</th>\n",
       "      <td>Ho &amp; Pringle Productions</td>\n",
       "      <td>Rocky Point Surf With Special Guest Sledge Ham...</td>\n",
       "      <td>9UPDrEsULKQ</td>\n",
       "      <td>2024-08-11 01:50:17+00:00</td>\n",
       "      <td>Aug</td>\n",
       "      <td>78910</td>\n",
       "      <td>1075</td>\n",
       "      <td>72</td>\n",
       "      <td>0 days 00:08:02</td>\n",
       "    </tr>\n",
       "    <tr>\n",
       "      <th>3</th>\n",
       "      <td>Ho &amp; Pringle Productions</td>\n",
       "      <td>Summertime Rides With The kids</td>\n",
       "      <td>_B1ZBI0mVgU</td>\n",
       "      <td>2024-08-02 20:43:36+00:00</td>\n",
       "      <td>Aug</td>\n",
       "      <td>5947</td>\n",
       "      <td>223</td>\n",
       "      <td>0</td>\n",
       "      <td>0 days 00:04:12</td>\n",
       "    </tr>\n",
       "    <tr>\n",
       "      <th>4</th>\n",
       "      <td>Ho &amp; Pringle Productions</td>\n",
       "      <td>Ho Family &amp; Friends Surf SOLID Ala Moana Bowl</td>\n",
       "      <td>XItO4texa8k</td>\n",
       "      <td>2024-07-26 16:14:54+00:00</td>\n",
       "      <td>Jul</td>\n",
       "      <td>42377</td>\n",
       "      <td>755</td>\n",
       "      <td>81</td>\n",
       "      <td>0 days 00:17:14</td>\n",
       "    </tr>\n",
       "    <tr>\n",
       "      <th>...</th>\n",
       "      <td>...</td>\n",
       "      <td>...</td>\n",
       "      <td>...</td>\n",
       "      <td>...</td>\n",
       "      <td>...</td>\n",
       "      <td>...</td>\n",
       "      <td>...</td>\n",
       "      <td>...</td>\n",
       "      <td>...</td>\n",
       "    </tr>\n",
       "    <tr>\n",
       "      <th>5012</th>\n",
       "      <td>Kai Lenny</td>\n",
       "      <td>Kai Hydrofoil Surfing the North Shore</td>\n",
       "      <td>YlVs_cD7bzI</td>\n",
       "      <td>2016-12-18 23:02:18+00:00</td>\n",
       "      <td>Dec</td>\n",
       "      <td>72633</td>\n",
       "      <td>378</td>\n",
       "      <td>20</td>\n",
       "      <td>0 days 00:02:20</td>\n",
       "    </tr>\n",
       "    <tr>\n",
       "      <th>5013</th>\n",
       "      <td>Kai Lenny</td>\n",
       "      <td>Kai Lenny Tow-Surfing after the Peahi Challenge</td>\n",
       "      <td>SvISdYzhZCI</td>\n",
       "      <td>2016-11-12 23:49:31+00:00</td>\n",
       "      <td>Nov</td>\n",
       "      <td>168490</td>\n",
       "      <td>1225</td>\n",
       "      <td>83</td>\n",
       "      <td>0 days 00:01:57</td>\n",
       "    </tr>\n",
       "    <tr>\n",
       "      <th>5014</th>\n",
       "      <td>Kai Lenny</td>\n",
       "      <td>Worlds Longest Waves: Open Ocean Foil Surfing</td>\n",
       "      <td>h7XupqFOFSg</td>\n",
       "      <td>2016-09-14 19:18:50+00:00</td>\n",
       "      <td>Sep</td>\n",
       "      <td>214825</td>\n",
       "      <td>887</td>\n",
       "      <td>51</td>\n",
       "      <td>0 days 00:02:01</td>\n",
       "    </tr>\n",
       "    <tr>\n",
       "      <th>5015</th>\n",
       "      <td>Kai Lenny</td>\n",
       "      <td>Kai Lenny Hydrofoil Surfing</td>\n",
       "      <td>px88XsARHwc</td>\n",
       "      <td>2016-07-05 17:33:54+00:00</td>\n",
       "      <td>Jul</td>\n",
       "      <td>1262797</td>\n",
       "      <td>3859</td>\n",
       "      <td>156</td>\n",
       "      <td>0 days 00:03:00</td>\n",
       "    </tr>\n",
       "    <tr>\n",
       "      <th>5016</th>\n",
       "      <td>Kai Lenny</td>\n",
       "      <td>Kai Lenny and the First Foil Downwinder</td>\n",
       "      <td>9QfFRvd7H6I</td>\n",
       "      <td>2016-04-30 20:09:03+00:00</td>\n",
       "      <td>Apr</td>\n",
       "      <td>429346</td>\n",
       "      <td>1185</td>\n",
       "      <td>80</td>\n",
       "      <td>0 days 00:01:29</td>\n",
       "    </tr>\n",
       "  </tbody>\n",
       "</table>\n",
       "<p>5017 rows × 9 columns</p>\n",
       "</div>"
      ],
      "text/plain": [
       "                  channel_name  \\\n",
       "0     Ho & Pringle Productions   \n",
       "1     Ho & Pringle Productions   \n",
       "2     Ho & Pringle Productions   \n",
       "3     Ho & Pringle Productions   \n",
       "4     Ho & Pringle Productions   \n",
       "...                        ...   \n",
       "5012                 Kai Lenny   \n",
       "5013                 Kai Lenny   \n",
       "5014                 Kai Lenny   \n",
       "5015                 Kai Lenny   \n",
       "5016                 Kai Lenny   \n",
       "\n",
       "                                                  Title     Video_id  \\\n",
       "0     High Noon | A SURF RANCH Snapt Takeover Starri...  7_2cuckjs1M   \n",
       "1     Mason Ho POV Desert Point Special Guest Sledge...  2CLmMDXpMUw   \n",
       "2     Rocky Point Surf With Special Guest Sledge Ham...  9UPDrEsULKQ   \n",
       "3                        Summertime Rides With The kids  _B1ZBI0mVgU   \n",
       "4         Ho Family & Friends Surf SOLID Ala Moana Bowl  XItO4texa8k   \n",
       "...                                                 ...          ...   \n",
       "5012              Kai Hydrofoil Surfing the North Shore  YlVs_cD7bzI   \n",
       "5013    Kai Lenny Tow-Surfing after the Peahi Challenge  SvISdYzhZCI   \n",
       "5014      Worlds Longest Waves: Open Ocean Foil Surfing  h7XupqFOFSg   \n",
       "5015                        Kai Lenny Hydrofoil Surfing  px88XsARHwc   \n",
       "5016            Kai Lenny and the First Foil Downwinder  9QfFRvd7H6I   \n",
       "\n",
       "                Published_date Month    Views  Likes  Comments        Duration  \n",
       "0    2024-08-23 14:15:09+00:00   Aug    55812    728        91 0 days 00:22:01  \n",
       "1    2024-08-16 19:00:36+00:00   Aug    27671    658        53 0 days 00:08:03  \n",
       "2    2024-08-11 01:50:17+00:00   Aug    78910   1075        72 0 days 00:08:02  \n",
       "3    2024-08-02 20:43:36+00:00   Aug     5947    223         0 0 days 00:04:12  \n",
       "4    2024-07-26 16:14:54+00:00   Jul    42377    755        81 0 days 00:17:14  \n",
       "...                        ...   ...      ...    ...       ...             ...  \n",
       "5012 2016-12-18 23:02:18+00:00   Dec    72633    378        20 0 days 00:02:20  \n",
       "5013 2016-11-12 23:49:31+00:00   Nov   168490   1225        83 0 days 00:01:57  \n",
       "5014 2016-09-14 19:18:50+00:00   Sep   214825    887        51 0 days 00:02:01  \n",
       "5015 2016-07-05 17:33:54+00:00   Jul  1262797   3859       156 0 days 00:03:00  \n",
       "5016 2016-04-30 20:09:03+00:00   Apr   429346   1185        80 0 days 00:01:29  \n",
       "\n",
       "[5017 rows x 9 columns]"
      ]
     },
     "execution_count": 25,
     "metadata": {},
     "output_type": "execute_result"
    }
   ],
   "source": [
    "# We review a sample of the data to ensure that it looks as expected:\n",
    "all_channels_video_data"
   ]
  },
  {
   "cell_type": "markdown",
   "id": "0053b4c4-d5b3-4e68-8045-46ebdb3c5dc1",
   "metadata": {},
   "source": [
    "## Saving the Data\n",
    "Finally, we save the cleaned DataFrame to a CSV file for further analysis."
   ]
  },
  {
   "cell_type": "code",
   "execution_count": 26,
   "id": "440bff7f-c72c-455c-89a0-122b68511abb",
   "metadata": {},
   "outputs": [],
   "source": [
    "all_channels_video_data.to_csv('C:\\YT Analysis Project/all_channels_video_data1.csv', index=False)"
   ]
  }
 ],
 "metadata": {
  "kernelspec": {
   "display_name": "Python 3 (ipykernel)",
   "language": "python",
   "name": "python3"
  },
  "language_info": {
   "codemirror_mode": {
    "name": "ipython",
    "version": 3
   },
   "file_extension": ".py",
   "mimetype": "text/x-python",
   "name": "python",
   "nbconvert_exporter": "python",
   "pygments_lexer": "ipython3",
   "version": "3.9.19"
  }
 },
 "nbformat": 4,
 "nbformat_minor": 5
}
